{
 "cells": [
  {
   "cell_type": "code",
   "execution_count": 2,
   "id": "e2f0b642-26d7-41b3-ae0d-1b16a9d11f4d",
   "metadata": {},
   "outputs": [],
   "source": [
    "from pymongo import MongoClient\n",
    "import matplotlib.pyplot as plt"
   ]
  },
  {
   "cell_type": "code",
   "execution_count": 2,
   "id": "70078f88-a941-4089-95a3-677f9a9135e8",
   "metadata": {},
   "outputs": [],
   "source": [
    "def connect():\n",
    "    \"\"\"connect to database\"\"\"\n",
    "    cli = MongoClient(host=\"mydb\", port=27017)\n",
    "    db = cli.zib.ecg_data\n",
    "    return db"
   ]
  },
  {
   "cell_type": "markdown",
   "id": "5f1d16c2-f353-41e0-87d7-fb190b354444",
   "metadata": {},
   "source": [
    "## Get and split data\n",
    "\n",
    "The original dataset (PTB-XL, https://pubmed.ncbi.nlm.nih.gov/32451379/) defines stratified folds. It is recommended to use folds 1-8 as training sets and 9 and 10 for validation and testing (highest confidence of diagnosis, i.e., correct labels).\n",
    "See also https://pubmed.ncbi.nlm.nih.gov/32903191/"
   ]
  },
  {
   "cell_type": "code",
   "execution_count": 4,
   "id": "94cfcf7a-05ac-4ff2-b240-7fa8a19619bb",
   "metadata": {},
   "outputs": [],
   "source": [
    "def get_data(db):\n",
    "    \"\"\"Get data.\n",
    "    \n",
    "    Args:\n",
    "        db: MongoDB collection\n",
    "    \n",
    "    Returns:\n",
    "        list of tuples: train, test, valid for data and labels\n",
    "    \"\"\"\n",
    "    select = {\"_id\": 0, \"ecg_id\": 1, \"rhythm_diag\": 1, \"data\": 1, \"strat_fold\": 1}\n",
    "    # use strat folds 1-8 for training\n",
    "    data_train = list(db.find({\"rhythm_diag\": {\"$ne\": \"OTHER\"}, \"strat_fold\": {\"$lte\": 8}}, projection=select))\n",
    "    # use strat 9 for validation\n",
    "    data_val = list(db.find({\"rhythm_diag\": {\"$ne\": \"OTHER\"}, \"strat_fold\": {\"$eq\": 9}}, projection=select))\n",
    "    # use strat 10 for validation\n",
    "    data_test = list(db.find({\"rhythm_diag\": {\"$ne\": \"OTHER\"}, \"strat_fold\": {\"$eq\": 10}}, projection=select))\n",
    "\n",
    "    X_train = np.array([d[\"data\"] for d in data_train])\n",
    "    X_test = np.array([d[\"data\"] for d in data_test])\n",
    "    X_val = np.array([d[\"data\"] for d in data_val])\n",
    "\n",
    "    label_train = [d[\"rhythm_diag\"] for d in data_train]\n",
    "    label_test = [d[\"rhythm_diag\"] for d in data_test]\n",
    "    label_val = [d[\"rhythm_diag\"] for d in data_val]\n",
    "    \n",
    "    print(f\"Size of training data: {X_train.shape}\")\n",
    "    print(f\"Size of validation data: {X_val.shape}\")\n",
    "    print(f\"Size of testing data: {X_test.shape}\")\n",
    "\n",
    "    print(f\"number of samples per time series: {X_train.shape[-1]}\")\n",
    "\n",
    "    subs = {\"SR\": 0, \"AFIB\": 1}  # \"OTHER\": 2}\n",
    "    print(f\"Categories: {subs}\")\n",
    "    # ncat = len(set(subs.values()))\n",
    "    y_train, y_test, y_val = map(lambda x: np.array([subs[i] for i in x]), (label_train, label_test, label_val))\n",
    "    \n",
    "    plt.figure()\n",
    "    plt.hist(label_train + label_test + label_val);\n",
    "    \n",
    "    return (X_train, X_test, X_val), (y_train, y_test, y_val)"
   ]
  }
 ],
 "metadata": {
  "kernelspec": {
   "display_name": "Python 3 (ipykernel)",
   "language": "python",
   "name": "python3"
  },
  "language_info": {
   "codemirror_mode": {
    "name": "ipython",
    "version": 3
   },
   "file_extension": ".py",
   "mimetype": "text/x-python",
   "name": "python",
   "nbconvert_exporter": "python",
   "pygments_lexer": "ipython3",
   "version": "3.9.7"
  }
 },
 "nbformat": 4,
 "nbformat_minor": 5
}
