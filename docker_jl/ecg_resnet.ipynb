{
 "cells": [
  {
   "cell_type": "code",
   "execution_count": 1,
   "id": "dae4518a-ba20-4df7-89fb-1655427619f3",
   "metadata": {},
   "outputs": [],
   "source": [
    "import numpy as np\n",
    "import tensorflow as tf\n",
    "from tensorflow import keras\n",
    "from tensorflow.keras import regularizers\n",
    "from tensorflow.keras.callbacks import ModelCheckpoint\n",
    "from tensorflow_addons.optimizers import CyclicalLearningRate\n",
    "import sklearn\n",
    "import sklearn.metrics\n",
    "import matplotlib.pyplot as plt\n",
    "import matplotlib as mpl\n",
    "mpl.style.use(\"seaborn\")"
   ]
  },
  {
   "cell_type": "markdown",
   "id": "893fda7c-2bca-495d-9986-2fd18b5940b6",
   "metadata": {},
   "source": [
    "## Database: connect and get partitioned data"
   ]
  },
  {
   "cell_type": "code",
   "execution_count": 2,
   "id": "47cbcb4c-1d66-4589-8683-0eb02a192862",
   "metadata": {},
   "outputs": [
    {
     "name": "stdout",
     "output_type": "stream",
     "text": [
      "Size of training data: (14637, 1000)\n",
      "Size of validation data: (1829, 1000)\n",
      "Size of testing data: (1830, 1000)\n",
      "number of samples per time series: 1000\n",
      "Categories: {'SR': 0, 'AFIB': 1}\n"
     ]
    },
    {
     "data": {
      "image/png": "[encoded data removed]",
      "text/plain": [
       "<Figure size 576x396 with 1 Axes>"
      ]
     },
     "metadata": {},
     "output_type": "display_data"
    }
   ],
   "source": [
    "%run database.ipynb\n",
    "ecg_db = connect()\n",
    "(X_train, X_test, X_val), (y_train, y_test, y_val) = get_data(ecg_db)"
   ]
  },
  {
   "cell_type": "markdown",
   "id": "cb9c4dd3-fefc-4b0b-8c58-1fbaaee21994",
   "metadata": {},
   "source": [
    "## initialize helper functions, normalize time series"
   ]
  },
  {
   "cell_type": "code",
   "execution_count": null,
   "id": "9d4a7d46-e4fd-4684-9253-c3c9e2ecd61e",
   "metadata": {},
   "outputs": [],
   "source": [
    "%run helper_functions.ipynb\n",
    "X_train, X_test, X_val = normalize_data(X_train, X_test, X_val, method=4)"
   ]
  },
  {
   "cell_type": "code",
   "execution_count": null,
   "id": "f8fa2574-55ba-4fe6-80fc-9bc6520b37a8",
   "metadata": {
    "colab": {},
    "colab_type": "code",
    "id": "KdXicMm8n8Vp"
   },
   "outputs": [],
   "source": [
    "(X_train, X_test, X_val), (y_train, y_test, y_val) = fix_shape_conv((X_train, X_test, X_val), (y_train, y_test, y_val)) \n",
    "print(X_train.shape, y_train.shape)"
   ]
  },
  {
   "cell_type": "code",
   "execution_count": null,
   "id": "2281208c-c61a-463f-a8c6-aff11af7e92c",
   "metadata": {
    "colab": {},
    "colab_type": "code",
    "id": "Pe_yCVYMtnq9",
    "tags": []
   },
   "outputs": [],
   "source": [
    "# Copied from https://github.com/avanwyk/tensorflow-projects/blob/master/lr-finder/lr_finder.py\n",
    "# Apache License 2.0\n",
    "\n",
    "from tensorflow.keras.callbacks import Callback\n",
    "\n",
    "class LRFinder(Callback):\n",
    "    \"\"\"`Callback` that exponentially adjusts the learning rate after each training batch between `start_lr` and\n",
    "    `end_lr` for a maximum number of batches: `max_step`. The loss and learning rate are recorded at each step allowing\n",
    "    visually finding a good learning rate as per https://sgugger.github.io/how-do-you-find-a-good-learning-rate.html via\n",
    "    the `plot` method.\n",
    "    \"\"\"\n",
    "\n",
    "    def __init__(self, start_lr: float = 1e-7, end_lr: float = 10, max_steps: int = 100, smoothing=0.9):\n",
    "        super(LRFinder, self).__init__()\n",
    "        self.start_lr, self.end_lr = start_lr, end_lr\n",
    "        self.max_steps = max_steps\n",
    "        self.smoothing = smoothing\n",
    "        self.step, self.best_loss, self.avg_loss, self.lr = 0, 0, 0, 0\n",
    "        self.lrs, self.losses = [], []\n",
    "\n",
    "    def on_train_begin(self, logs=None):\n",
    "        self.step, self.best_loss, self.avg_loss, self.lr = 0, 0, 0, 0\n",
    "        self.lrs, self.losses = [], []\n",
    "\n",
    "    def on_train_batch_begin(self, batch, logs=None):\n",
    "        self.lr = self.exp_annealing(self.step)\n",
    "        tf.keras.backend.set_value(self.model.optimizer.lr, self.lr)\n",
    "\n",
    "    def on_train_batch_end(self, batch, logs=None):\n",
    "        logs = logs or {}\n",
    "        loss = logs.get('loss')\n",
    "        step = self.step\n",
    "        if loss:\n",
    "            self.avg_loss = self.smoothing * self.avg_loss + (1 - self.smoothing) * loss\n",
    "            smooth_loss = self.avg_loss / (1 - self.smoothing ** (self.step + 1))\n",
    "            self.losses.append(smooth_loss)\n",
    "            self.lrs.append(self.lr)\n",
    "\n",
    "            if step == 0 or loss < self.best_loss:\n",
    "                self.best_loss = loss\n",
    "\n",
    "            if smooth_loss > 4 * self.best_loss or tf.math.is_nan(smooth_loss):\n",
    "                self.model.stop_training = True\n",
    "\n",
    "        if step == self.max_steps:\n",
    "            self.model.stop_training = True\n",
    "\n",
    "        self.step += 1\n",
    "\n",
    "    def exp_annealing(self, step):\n",
    "        return self.start_lr * (self.end_lr / self.start_lr) ** (step * 1. / self.max_steps)\n",
    "\n",
    "    def plot(self):\n",
    "        fig, ax = plt.subplots(1, 1)\n",
    "        ax.set_ylabel('Loss')\n",
    "        ax.set_xlabel('Learning Rate (log scale)')\n",
    "        ax.set_xscale('log')\n",
    "        ax.xaxis.set_major_formatter(plt.FormatStrFormatter('%.0e'))\n",
    "        ax.plot(self.lrs, self.losses)"
   ]
  },
  {
   "cell_type": "code",
   "execution_count": null,
   "id": "23de9f71-ae88-46a9-8ae5-86d5fd4d224e",
   "metadata": {
    "colab": {},
    "colab_type": "code",
    "id": "QaCy6KbsWGme",
    "tags": []
   },
   "outputs": [],
   "source": [
    "def pretty_plot(history, field, fn):\n",
    "    def plot(data, val_data, best_index, best_value, title):\n",
    "        plt.plot(range(1, len(data)+1), data, label='train')\n",
    "        plt.plot(range(1, len(data)+1), val_data, label='validation')\n",
    "        if not best_index is None:\n",
    "            plt.axvline(x=best_index+1, linestyle=':', c=\"#777777\")\n",
    "        if not best_value is None:\n",
    "            plt.axhline(y=best_value, linestyle=':', c=\"#777777\")\n",
    "        plt.xlabel('Epoch')\n",
    "        plt.ylabel(field)\n",
    "        plt.xticks(range(0, len(data), 20))\n",
    "        plt.title(title)\n",
    "        plt.legend()\n",
    "        plt.show()\n",
    "\n",
    "    data = history.history[field]\n",
    "    val_data = history.history['val_' + field]\n",
    "    tail = int(0.15 * len(data))\n",
    "\n",
    "    best_index = fn(val_data)\n",
    "    best_value = val_data[best_index]\n",
    "\n",
    "    plot(data, val_data, best_index, best_value, \"{} over epochs (best {:06.4f})\".format(field, best_value))\n",
    "    plot(data[-tail:], val_data[-tail:], None, best_value, \"{} over last {} epochs\".format(field, tail))"
   ]
  },
  {
   "cell_type": "code",
   "execution_count": null,
   "id": "8fb05544-5c6f-41db-8d12-760e5f2fc1fb",
   "metadata": {
    "colab": {},
    "colab_type": "code",
    "id": "xvAzK8OgpnQl",
    "tags": []
   },
   "outputs": [],
   "source": [
    "def plot_confusion_matrix(cm, classes,\n",
    "                          normalize=False,\n",
    "                          title='Confusion matrix',\n",
    "                          cmap=plt.cm.Blues):\n",
    "    \"\"\"\n",
    "    This function prints and plots the confusion matrix.\n",
    "    Normalization can be applied by setting `normalize=True`.\n",
    "    \"\"\"\n",
    "    plt.imshow(cm, interpolation='nearest', cmap=cmap)\n",
    "    plt.title(title)\n",
    "    plt.colorbar()\n",
    "    tick_marks = np.arange(len(classes))\n",
    "    plt.xticks(tick_marks, classes, rotation=45)\n",
    "    plt.yticks(tick_marks, classes)\n",
    "\n",
    "    if normalize:\n",
    "        cm = cm.astype('float') / cm.sum(axis=1)[:, np.newaxis]\n",
    "        print(\"Normalized confusion matrix\")\n",
    "    else:\n",
    "        print('Confusion matrix, without normalization')\n",
    "\n",
    "    print(cm)\n",
    "\n",
    "    thresh = cm.max() / 2.\n",
    "    for i, j in itertools.product(range(cm.shape[0]), range(cm.shape[1])):\n",
    "        plt.text(j, i, cm[i, j],\n",
    "                 horizontalalignment=\"center\",\n",
    "                 color=\"white\" if cm[i, j] > thresh else \"black\")\n",
    "\n",
    "    plt.tight_layout()\n",
    "    plt.ylabel('True label')\n",
    "    plt.xlabel('Predicted label')\n"
   ]
  },
  {
   "cell_type": "markdown",
   "id": "c222ffea-3b3a-4eec-b178-215e3c81f740",
   "metadata": {
    "colab_type": "text",
    "id": "AUalbpxx1JaK"
   },
   "source": [
    "## ResNet model\n",
    "\n",
    "### define ResNet model of https://github.com/spdrnl/ecg/blob/master/ECG.ipynb"
   ]
  },
  {
   "cell_type": "code",
   "execution_count": null,
   "id": "e9029190-93d1-41cb-b6d8-28bf4c6fd4c0",
   "metadata": {
    "colab": {},
    "colab_type": "code",
    "id": "49QkCdhaW7r5"
   },
   "outputs": [],
   "source": [
    "def build_resnet_model(categories=2, input_size=1000):\n",
    "    def residual_block(X, filters, kernel_size):\n",
    "        out = keras.layers.Conv1D(filters, kernel_size, padding='same')(X)\n",
    "        out = keras.layers.ReLU()(out)\n",
    "        out = keras.layers.Conv1D(filters, kernel_size, padding='same')(out)\n",
    "        out = keras.layers.add([X, out])\n",
    "        out = keras.layers.ReLU()(out)\n",
    "        out = keras.layers.MaxPool1D(5, 2)(out)\n",
    "        return out\n",
    "\n",
    "    filters = 32\n",
    "    kernel_size = 5\n",
    "\n",
    "    inputs = keras.layers.Input([input_size, 1])\n",
    "    X = keras.layers.Conv1D(filters, kernel_size)(inputs)\n",
    "    X = residual_block(X, filters, kernel_size)\n",
    "    X = residual_block(X, filters, kernel_size)\n",
    "    X = residual_block(X, filters, kernel_size)\n",
    "    X = residual_block(X, filters, kernel_size)\n",
    "    X = residual_block(X, filters, kernel_size)\n",
    "    X = keras.layers.Flatten()(X)\n",
    "    X = keras.layers.Dense(32, activation='relu')(X)\n",
    "    X = keras.layers.Dense(32, activation='relu')(X)\n",
    "    output = (keras.layers.Dense(1, activation='sigmoid')(X) if categories == 2 else keras.layers.Dense(categories, activation='softmax')(X))\n",
    "\n",
    "    model = keras.Model(inputs=inputs, outputs=output)\n",
    "    return model"
   ]
  },
  {
   "cell_type": "markdown",
   "id": "d65ae3cc-405e-4581-bc09-1c2ef54fa1dc",
   "metadata": {},
   "source": [
    "### compile model"
   ]
  },
  {
   "cell_type": "code",
   "execution_count": null,
   "id": "40a32c45-b81f-469f-969c-e76a8ee84dd9",
   "metadata": {
    "colab": {
     "base_uri": "https://localhost:8080/",
     "height": 279
    },
    "colab_type": "code",
    "id": "A2j5pt-iJ1dQ",
    "outputId": "d38df1d2-53a7-4763-bf4a-c4ab688d933b"
   },
   "outputs": [],
   "source": [
    "optimizer = keras.optimizers.Adam(lr=0.001)\n",
    "model = build_resnet_model(input_size=X_train.shape[1])\n",
    "model.compile(optimizer=optimizer, loss='binary_crossentropy', metrics=['accuracy'])\n",
    "# model.summary()\n",
    "# lr_finder = LRFinder(start_lr=1e-7, end_lr= 1e-03, max_steps=100, smoothing=0.6)\n",
    "# _ = model.fit(X_train, y_train, batch_size=256, epochs=5, callbacks=[lr_finder], verbose=False)\n",
    "\n",
    "# lr_finder.plot()"
   ]
  },
  {
   "cell_type": "markdown",
   "id": "70d0193c-cdb9-4983-b7ad-62c266976c89",
   "metadata": {},
   "source": [
    "### setup and run training"
   ]
  },
  {
   "cell_type": "code",
   "execution_count": null,
   "id": "44cbbe70-1251-46a8-92e3-dc60ec6acc67",
   "metadata": {
    "colab": {
     "base_uri": "https://localhost:8080/",
     "height": 1000
    },
    "colab_type": "code",
    "id": "ln5o0jS4J1w0",
    "outputId": "c9567f4c-1ac1-4c6b-b457-112b7da62c52",
    "tags": []
   },
   "outputs": [],
   "source": [
    "# Set cyclical learning rate\n",
    "N = X_train.shape[0]\n",
    "batch_size = 128\n",
    "iterations = N/batch_size\n",
    "step_size= 2 * iterations\n",
    "\n",
    "lr_schedule = CyclicalLearningRate(1e-6, 1e-3, step_size=step_size, scale_fn=lambda x: tf.pow(0.95,x))\n",
    "optimizer = tf.keras.optimizers.Adam(learning_rate=lr_schedule)\n",
    "\n",
    "save_best_weights = ModelCheckpoint(filepath=\"weights.hdf5\", verbose=0, save_best_only=True)\n",
    "\n",
    "model.compile(optimizer=optimizer, loss='binary_crossentropy', metrics=['accuracy'])\n",
    "history = model.fit(X_train, y_train, validation_data=(X_val, y_val), \n",
    "                           shuffle=True, batch_size=batch_size, epochs=75, callbacks=[save_best_weights])"
   ]
  },
  {
   "cell_type": "markdown",
   "id": "2fd9d5a2-1db5-49dc-bfea-dd93e86dde36",
   "metadata": {},
   "source": [
    "### plot metrics"
   ]
  },
  {
   "cell_type": "code",
   "execution_count": null,
   "id": "d86b7132-97a5-4e80-9ccb-851580196e4d",
   "metadata": {
    "colab": {
     "base_uri": "https://localhost:8080/",
     "height": 554
    },
    "colab_type": "code",
    "id": "RY2Qa8Z8p_ep",
    "outputId": "b79f15e1-ffef-4340-f10b-abf8bd6746c0"
   },
   "outputs": [],
   "source": [
    "pretty_plot(history, 'loss', lambda x: np.argmin(x))"
   ]
  },
  {
   "cell_type": "code",
   "execution_count": null,
   "id": "e7f12bd5-ed78-4d27-b72e-84c0ee11a26f",
   "metadata": {
    "colab": {
     "base_uri": "https://localhost:8080/",
     "height": 554
    },
    "colab_type": "code",
    "id": "-072qkJxO9Hj",
    "outputId": "0dada8ff-179f-4491-cfd9-9121bad89d0e"
   },
   "outputs": [],
   "source": [
    "pretty_plot(history, 'accuracy', lambda x: np.argmax(x))"
   ]
  },
  {
   "cell_type": "markdown",
   "id": "4a1983d8-7cc5-40d4-afa9-1eb20f0fb52d",
   "metadata": {},
   "source": [
    "### test trained network with testing data"
   ]
  },
  {
   "cell_type": "code",
   "execution_count": null,
   "id": "2a13ff93-1dd6-420b-8f77-054871676ae2",
   "metadata": {
    "colab": {
     "base_uri": "https://localhost:8080/",
     "height": 52
    },
    "colab_type": "code",
    "id": "ML7cyIwKukMu",
    "outputId": "f6a6f079-64b5-4ea1-d9f6-f5fab2059046"
   },
   "outputs": [],
   "source": [
    "weights_path = \"weights.hdf5\"\n",
    "model.load_weights(weights_path)\n",
    "model.evaluate(X_test, y_test)"
   ]
  },
  {
   "cell_type": "code",
   "execution_count": null,
   "id": "93d8b251-41e6-4874-b9cd-7954fcaf4156",
   "metadata": {
    "colab": {
     "base_uri": "https://localhost:8080/",
     "height": 363
    },
    "colab_type": "code",
    "id": "0OCyIX7vQBbG",
    "outputId": "c1dd7c12-4e8e-4436-d5f1-17951f3b802c"
   },
   "outputs": [],
   "source": [
    "y_pred = (model.predict(X_test) > 0.5).astype(\"int32\")\n",
    "# Compute confusion matrix\n",
    "cnf_matrix = sklearn.metrics.confusion_matrix(y_test, y_pred)\n",
    "np.set_printoptions(precision=2)\n",
    "\n",
    "# Plot non-normalized confusion matrix\n",
    "plt.figure()\n",
    "plot_confusion_matrix(cnf_matrix, classes=[\"SR\", \"AFIB\"],\n",
    "                      title=\"Confusion matrix\")"
   ]
  }
 ],
 "metadata": {
  "kernelspec": {
   "display_name": "Python 3 (ipykernel)",
   "language": "python",
   "name": "python3"
  },
  "language_info": {
   "codemirror_mode": {
    "name": "ipython",
    "version": 3
   },
   "file_extension": ".py",
   "mimetype": "text/x-python",
   "name": "python",
   "nbconvert_exporter": "python",
   "pygments_lexer": "ipython3",
   "version": "3.9.7"
  }
 },
 "nbformat": 4,
 "nbformat_minor": 5
}
